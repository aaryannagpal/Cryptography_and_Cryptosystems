{
 "cells": [
  {
   "cell_type": "markdown",
   "id": "4d195653",
   "metadata": {},
   "source": [
    "# Caesar Cipher"
   ]
  },
  {
   "cell_type": "markdown",
   "id": "2d134265",
   "metadata": {},
   "source": [
    "## Importing Necessary Modules"
   ]
  },
  {
   "cell_type": "code",
   "execution_count": 1,
   "id": "a04253c3",
   "metadata": {},
   "outputs": [],
   "source": [
    "import numpy as np\n",
    "import math"
   ]
  },
  {
   "cell_type": "markdown",
   "id": "da6581de",
   "metadata": {},
   "source": [
    "## Defining Encryption and Decryption"
   ]
  },
  {
   "cell_type": "code",
   "execution_count": 2,
   "id": "8133279b",
   "metadata": {},
   "outputs": [],
   "source": [
    "def encrypt(plaintext,key):\n",
    "    cipher = ''\n",
    "    \n",
    "    for i in plaintext: \n",
    "        if i.isalpha():\n",
    "            if (i.isupper()):  \n",
    "                cipher += chr((ord(i) + key - 64) % 26 + 64)  \n",
    "            else:  \n",
    "                cipher += chr((ord(i) + key - 96) % 26 + 96)  \n",
    "        else:\n",
    "            return \"INVALID\"\n",
    "    return cipher  "
   ]
  },
  {
   "cell_type": "code",
   "execution_count": 3,
   "id": "cf1313af",
   "metadata": {},
   "outputs": [],
   "source": [
    "def decrypt(cipher,key):\n",
    "    x = ''\n",
    "    \n",
    "    for i in cipher: \n",
    "        if i.isalpha():\n",
    "            if (i.isupper()):  \n",
    "                x += chr((ord(i) - key - 64) % 26 + 64)  \n",
    "            else:  \n",
    "                x += chr((ord(i) - key - 96) % 26 + 96)  \n",
    "        else:\n",
    "            return \"INVALID\"\n",
    "    return x "
   ]
  },
  {
   "cell_type": "markdown",
   "id": "08cf6edc",
   "metadata": {},
   "source": [
    "## Implementing"
   ]
  },
  {
   "cell_type": "code",
   "execution_count": 4,
   "id": "4cd6e67d",
   "metadata": {},
   "outputs": [],
   "source": [
    "plaintext = 'himynameiscaesar'\n",
    "key = 3"
   ]
  },
  {
   "cell_type": "code",
   "execution_count": 5,
   "id": "3ca6aee4",
   "metadata": {
    "scrolled": true
   },
   "outputs": [
    {
     "data": {
      "text/plain": [
       "'klpbqdphlvfdhvdu'"
      ]
     },
     "execution_count": 5,
     "metadata": {},
     "output_type": "execute_result"
    }
   ],
   "source": [
    "cipher = encrypt(plaintext,key)\n",
    "cipher"
   ]
  },
  {
   "cell_type": "code",
   "execution_count": 6,
   "id": "a3afe334",
   "metadata": {},
   "outputs": [
    {
     "data": {
      "text/plain": [
       "'himynameiscaesar'"
      ]
     },
     "execution_count": 6,
     "metadata": {},
     "output_type": "execute_result"
    }
   ],
   "source": [
    "decrypt(cipher,key)"
   ]
  }
 ],
 "metadata": {
  "kernelspec": {
   "display_name": "Python 3 (ipykernel)",
   "language": "python",
   "name": "python3"
  },
  "language_info": {
   "codemirror_mode": {
    "name": "ipython",
    "version": 3
   },
   "file_extension": ".py",
   "mimetype": "text/x-python",
   "name": "python",
   "nbconvert_exporter": "python",
   "pygments_lexer": "ipython3",
   "version": "3.9.7"
  }
 },
 "nbformat": 4,
 "nbformat_minor": 5
}
